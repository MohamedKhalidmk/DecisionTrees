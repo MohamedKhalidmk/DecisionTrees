{
  "cells": [
    {
      "cell_type": "markdown",
      "metadata": {
        "id": "view-in-github",
        "colab_type": "text"
      },
      "source": [
        "<a href=\"https://colab.research.google.com/github/MohamedKhalidmk/DecisionTrees/blob/main/C2_W4_Lab_01_Decision_Trees.ipynb\" target=\"_parent\"><img src=\"https://colab.research.google.com/assets/colab-badge.svg\" alt=\"Open In Colab\"/></a>"
      ]
    },
    {
      "cell_type": "markdown",
      "metadata": {
        "id": "Se1WcskC-wO7"
      },
      "source": [
        "# Ungraded Lab: Decision Trees"
      ],
      "id": "Se1WcskC-wO7"
    },
    {
      "cell_type": "markdown",
      "metadata": {
        "id": "aE7De7Ar-wO9"
      },
      "source": [
        "In this notebook you will visualize how a decision tree is splitted using information gain.\n",
        "\n",
        "We will revisit the dataset used in the video lectures. The dataset is:"
      ],
      "id": "aE7De7Ar-wO9"
    },
    {
      "cell_type": "markdown",
      "metadata": {
        "id": "W-HwhAOF-wO9"
      },
      "source": [
        "As you saw in the lectures, in a decision tree, we decide if a node will be split or not by looking at the **information gain** that split would give us. (Image of video IG)\n",
        "\n",
        "Where\n",
        "\n",
        "$$\\text{Information Gain} = H(p_1^\\text{node})- \\left(w^{\\text{left}}H\\left(p_1^\\text{left}\\right) + w^{\\text{right}}H\\left(p_1^\\text{right}\\right)\\right),$$\n",
        "\n",
        "and $H$ is the entropy, defined as\n",
        "\n",
        "$$H(p_1) = -p_1 \\text{log}_2(p_1) - (1- p_1) \\text{log}_2(1- p_1)$$\n",
        "\n",
        "Remember that log here is defined to be in base 2. Run the code block below to see by yourself how the entropy. $H(p)$ behaves while $p$ varies.\n",
        "\n",
        "Note that the H attains its higher value when $p = 0.5$. This means that the probability of event is $0.5$. And its minimum value is attained in $p = 0$ and $p = 1$, i.e., the probability of the event happening is totally predictable. Thus, the entropy shows the degree of predictability of an event."
      ],
      "id": "W-HwhAOF-wO9"
    },
    {
      "cell_type": "code",
      "execution_count": null,
      "metadata": {
        "id": "3vI9lTtP-wO9"
      },
      "outputs": [],
      "source": [
        "import pandas as pd\n",
        "import numpy as np\n",
        "import matplotlib.pyplot as plt\n",
        "from utils import *"
      ],
      "id": "3vI9lTtP-wO9"
    },
    {
      "cell_type": "code",
      "execution_count": null,
      "metadata": {
        "id": "3-OQmvRd-wO-",
        "outputId": "f91d91d2-1de3-4729-947e-92a2a4092a46",
        "colab": {
          "referenced_widgets": [
            "9e2465a119fc404eb21b7638951ec154"
          ]
        }
      },
      "outputs": [
        {
          "data": {
            "application/vnd.jupyter.widget-view+json": {
              "model_id": "9e2465a119fc404eb21b7638951ec154",
              "version_major": 2,
              "version_minor": 0
            },
            "text/plain": [
              "Canvas(toolbar=Toolbar(toolitems=[('Home', 'Reset original view', 'home', 'home'), ('Back', 'Back to previous …"
            ]
          },
          "metadata": {},
          "output_type": "display_data"
        }
      ],
      "source": [
        "%matplotlib widget\n",
        "_ = plot_entropy()\n"
      ],
      "id": "3-OQmvRd-wO-"
    },
    {
      "cell_type": "code",
      "execution_count": null,
      "metadata": {
        "id": "mYewlnOC-wO-"
      },
      "outputs": [],
      "source": [],
      "id": "mYewlnOC-wO-"
    },
    {
      "cell_type": "markdown",
      "metadata": {
        "id": "I2aVHJA8-wO-"
      },
      "source": [
        "|                                                     |   Ear Shape | Face Shape | Whiskers |   Cat  |\n",
        "|:---------------------------------------------------:|:---------:|:-----------:|:---------:|:------:|\n",
        "| <img src=\"images/0.png\" alt=\"drawing\" width=\"50\"/> |   Pointy   |   Round     |  Present  |    1   |\n",
        "| <img src=\"images/1.png\" alt=\"drawing\" width=\"50\"/> |   Floppy   |  Not Round  |  Present  |    1   |\n",
        "| <img src=\"images/2.png\" alt=\"drawing\" width=\"50\"/> |   Floppy   |  Round      |  Absent   |    0   |\n",
        "| <img src=\"images/3.png\" alt=\"drawing\" width=\"50\"/> |   Pointy   |  Not Round  |  Present  |    0   |\n",
        "| <img src=\"images/4.png\" alt=\"drawing\" width=\"50\"/> |   Pointy   |   Round     |  Present  |    1   |\n",
        "| <img src=\"images/5.png\" alt=\"drawing\" width=\"50\"/> |   Pointy   |   Round     |  Absent   |    1   |\n",
        "| <img src=\"images/6.png\" alt=\"drawing\" width=\"50\"/> |   Floppy   |  Not Round  |  Absent   |    0   |\n",
        "| <img src=\"images/7.png\" alt=\"drawing\" width=\"50\"/> |   Pointy   |  Round      |  Absent   |    1   |\n",
        "| <img src=\"images/8.png\" alt=\"drawing\" width=\"50\"/> |    Floppy  |   Round     |  Absent   |    0   |\n",
        "| <img src=\"images/9.png\" alt=\"drawing\" width=\"50\"/> |   Floppy   |  Round      |  Absent   |    0   |\n",
        "\n",
        "\n",
        "We will use **one-hot encoding** to encode the categorical features. They will be as follows:\n",
        "\n",
        "- Ear Shape: Pointy = 1, Floppy = 0\n",
        "- Face Shape: Round = 1, Not Round = 0\n",
        "- Whiskers: Present = 1, Absent = 0\n",
        "\n",
        "Therefore, we have two sets:\n",
        "\n",
        "- `X_train`: for each example, contains 3 features:\n",
        "            - Ear Shape (1 if pointy, 0 otherwise)\n",
        "            - Face Shape (1 if round, 0 otherwise)\n",
        "            - Whiskers (1 if present, 0 otherwise)\n",
        "            \n",
        "- `y_train`: whether the animal is a cat\n",
        "            - 1 if the animal is a cat\n",
        "            - 0 otherwise"
      ],
      "id": "I2aVHJA8-wO-"
    },
    {
      "cell_type": "code",
      "execution_count": null,
      "metadata": {
        "id": "0XIpm2BD-wO_"
      },
      "outputs": [],
      "source": [],
      "id": "0XIpm2BD-wO_"
    },
    {
      "cell_type": "code",
      "execution_count": null,
      "metadata": {
        "id": "AWG2CxOu-wO_"
      },
      "outputs": [],
      "source": [
        "X_train = np.array([[1, 1, 1],\n",
        "[0, 0, 1],\n",
        " [0, 1, 0],\n",
        " [1, 0, 1],\n",
        " [1, 1, 1],\n",
        " [1, 1, 0],\n",
        " [0, 0, 0],\n",
        " [1, 1, 0],\n",
        " [0, 1, 0],\n",
        " [0, 1, 0]])\n",
        "\n",
        "y_train = np.array([1, 1, 0, 0, 1, 1, 0, 1, 0, 0])"
      ],
      "id": "AWG2CxOu-wO_"
    },
    {
      "cell_type": "code",
      "execution_count": null,
      "metadata": {
        "id": "kuPDh93_-wO_",
        "outputId": "faff72ee-2214-45de-87fb-7f1d43d604e7"
      },
      "outputs": [
        {
          "data": {
            "text/plain": [
              "array([1, 1, 1])"
            ]
          },
          "execution_count": 4,
          "metadata": {},
          "output_type": "execute_result"
        }
      ],
      "source": [
        "#For instance, the first example\n",
        "X_train[0]"
      ],
      "id": "kuPDh93_-wO_"
    },
    {
      "cell_type": "markdown",
      "metadata": {
        "id": "wFkMv3Zx-wO_"
      },
      "source": [
        "This means that the first example has a pointy ear shape, round face shape and it has whiskers."
      ],
      "id": "wFkMv3Zx-wO_"
    },
    {
      "cell_type": "markdown",
      "metadata": {
        "id": "H0ynjksz-wO_"
      },
      "source": [
        "On each node, we compute the information gain for each feature, then split the node on the feature with the higher information gain, by comparing the entropy of the node with the weighted entropy in the two splitted nodes."
      ],
      "id": "H0ynjksz-wO_"
    },
    {
      "cell_type": "markdown",
      "metadata": {
        "id": "PScBs9jS-wO_"
      },
      "source": [
        "So, the root node has every animal in our dataset. Remember that $p_1^{node}$ is the proportion of positive class (cats) in the root node. So\n",
        "\n",
        "$$p_1^{node} = \\frac{5}{10} = 0.5$$\n",
        "\n",
        "Now let's write a function to compute the entropy."
      ],
      "id": "PScBs9jS-wO_"
    },
    {
      "cell_type": "code",
      "execution_count": null,
      "metadata": {
        "id": "8_o6i2DL-wO_",
        "outputId": "3d5ebee0-4618-4cf8-8821-69441a696a28"
      },
      "outputs": [
        {
          "name": "stdout",
          "output_type": "stream",
          "text": [
            "1.0\n"
          ]
        }
      ],
      "source": [
        "def entropy(p):\n",
        "    if p == 0 or p == 1:\n",
        "        return 0\n",
        "    else:\n",
        "        return -p * np.log2(p) - (1- p)*np.log2(1 - p)\n",
        "\n",
        "print(entropy(0.5))"
      ],
      "id": "8_o6i2DL-wO_"
    },
    {
      "cell_type": "markdown",
      "metadata": {
        "id": "tB3wFkes-wO_"
      },
      "source": [
        "To illustrate, let's compute the information gain if we split the node for each of the features. To do this, let's write some functions."
      ],
      "id": "tB3wFkes-wO_"
    },
    {
      "cell_type": "code",
      "execution_count": null,
      "metadata": {
        "id": "tyDxPWtH-wO_"
      },
      "outputs": [],
      "source": [
        "def split_indices(X, index_feature):\n",
        "    \"\"\"Given a dataset and a index feature, return two lists for the two split nodes, the left node has the animals that have\n",
        "    that feature = 1 and the right node those that have the feature = 0\n",
        "    index feature = 0 => ear shape\n",
        "    index feature = 1 => face shape\n",
        "    index feature = 2 => whiskers\n",
        "    \"\"\"\n",
        "    left_indices = []\n",
        "    right_indices = []\n",
        "    for i,x in enumerate(X):\n",
        "        if x[index_feature] == 1:\n",
        "            left_indices.append(i)\n",
        "        else:\n",
        "            right_indices.append(i)\n",
        "    return left_indices, right_indices"
      ],
      "id": "tyDxPWtH-wO_"
    },
    {
      "cell_type": "markdown",
      "metadata": {
        "id": "LYXcIWuo-wPA"
      },
      "source": [
        "So, if we choose Ear Shape to split, then we must have in the left node (check the table above) the indices:\n",
        "\n",
        "$$0 \\quad 3 \\quad 4 \\quad 5 \\quad 7$$\n",
        "\n",
        "and the right indices, the remaining ones."
      ],
      "id": "LYXcIWuo-wPA"
    },
    {
      "cell_type": "code",
      "execution_count": null,
      "metadata": {
        "id": "vDIXXUaW-wPA",
        "outputId": "5127f695-b6ff-43ba-e36d-121c9b1d3eba"
      },
      "outputs": [
        {
          "data": {
            "text/plain": [
              "([0, 3, 4, 5, 7], [1, 2, 6, 8, 9])"
            ]
          },
          "execution_count": 7,
          "metadata": {},
          "output_type": "execute_result"
        }
      ],
      "source": [
        "split_indices(X_train, 0)"
      ],
      "id": "vDIXXUaW-wPA"
    },
    {
      "cell_type": "markdown",
      "metadata": {
        "id": "G5f2QED4-wPA"
      },
      "source": [
        "Now we need another function to compute the weighted entropy in the splitted nodes. As you've seen in the video lecture, we must find:\n",
        "\n",
        "- $w^{\\text{left}}$ and $w^{\\text{right}}$, the proportion of animals in **each node**.\n",
        "- $p^{\\text{left}}$ and $p^{\\text{right}}$, the proportion of cats in **each split**.\n",
        "\n",
        "Note the difference between these two definitions!! To illustrate, if we split the root node on the feature of index 0 (Ear Shape), then in the left node, the one that has the animals 0, 3, 4, 5 and 7, we have:\n",
        "\n",
        "$$w^{\\text{left}}= \\frac{5}{10} = 0.5 \\text{ and } p^{\\text{left}} = \\frac{4}{5}$$\n",
        "$$w^{\\text{right}}= \\frac{5}{10} = 0.5 \\text{ and } p^{\\text{right}} = \\frac{1}{5}$$"
      ],
      "id": "G5f2QED4-wPA"
    },
    {
      "cell_type": "code",
      "execution_count": null,
      "metadata": {
        "id": "eNLX_arA-wPA"
      },
      "outputs": [],
      "source": [
        "def weighted_entropy(X,y,left_indices,right_indices):\n",
        "    \"\"\"\n",
        "    This function takes the splitted dataset, the indices we chose to split and returns the weighted entropy.\n",
        "    \"\"\"\n",
        "    w_left = len(left_indices)/len(X)\n",
        "    w_right = len(right_indices)/len(X)\n",
        "    p_left = sum(y[left_indices])/len(left_indices)\n",
        "    p_right = sum(y[right_indices])/len(right_indices)\n",
        "\n",
        "    weighted_entropy = w_left * entropy(p_left) + w_right * entropy(p_right)\n",
        "    return weighted_entropy"
      ],
      "id": "eNLX_arA-wPA"
    },
    {
      "cell_type": "code",
      "execution_count": null,
      "metadata": {
        "id": "FTUG8US--wPA",
        "outputId": "3d3b0635-f715-4038-9ffb-f7891d7e30ce"
      },
      "outputs": [
        {
          "data": {
            "text/plain": [
              "0.7219280948873623"
            ]
          },
          "execution_count": 9,
          "metadata": {},
          "output_type": "execute_result"
        }
      ],
      "source": [
        "left_indices, right_indices = split_indices(X_train, 0)\n",
        "weighted_entropy(X_train, y_train, left_indices, right_indices)"
      ],
      "id": "FTUG8US--wPA"
    },
    {
      "cell_type": "markdown",
      "metadata": {
        "id": "hG1ZUMls-wPA"
      },
      "source": [
        "So, the weighted entropy in the 2 split nodes is 0.72. To compute the **Information Gain** we must subtract it from the entropy in the node we chose to split (in this case, the root node)."
      ],
      "id": "hG1ZUMls-wPA"
    },
    {
      "cell_type": "code",
      "execution_count": null,
      "metadata": {
        "id": "90vyMHPY-wPA"
      },
      "outputs": [],
      "source": [
        "def information_gain(X, y, left_indices, right_indices):\n",
        "    \"\"\"\n",
        "    Here, X has the elements in the node and y is theirs respectives classes\n",
        "    \"\"\"\n",
        "    p_node = sum(y)/len(y)\n",
        "    h_node = entropy(p_node)\n",
        "    w_entropy = weighted_entropy(X,y,left_indices,right_indices)\n",
        "    return h_node - w_entropy"
      ],
      "id": "90vyMHPY-wPA"
    },
    {
      "cell_type": "code",
      "execution_count": null,
      "metadata": {
        "id": "PdncJcrV-wPB",
        "outputId": "6e4e3286-0f3d-4dce-d2b8-9718624e808a"
      },
      "outputs": [
        {
          "data": {
            "text/plain": [
              "0.2780719051126377"
            ]
          },
          "execution_count": 11,
          "metadata": {},
          "output_type": "execute_result"
        }
      ],
      "source": [
        "information_gain(X_train, y_train, left_indices, right_indices)"
      ],
      "id": "PdncJcrV-wPB"
    },
    {
      "cell_type": "markdown",
      "metadata": {
        "id": "Qyf0V5iK-wPB"
      },
      "source": [
        "Now, let's compute the information gain if we split the root node for each feature:"
      ],
      "id": "Qyf0V5iK-wPB"
    },
    {
      "cell_type": "code",
      "execution_count": null,
      "metadata": {
        "id": "LlmFnYYs-wPB",
        "outputId": "1b769aaf-a2c4-423d-bd1c-87efadfa910a"
      },
      "outputs": [
        {
          "name": "stdout",
          "output_type": "stream",
          "text": [
            "Feature: Ear Shape, information gain if we split the root node using this feature: 0.28\n",
            "Feature: Face Shape, information gain if we split the root node using this feature: 0.03\n",
            "Feature: Whiskers, information gain if we split the root node using this feature: 0.12\n"
          ]
        }
      ],
      "source": [
        "for i, feature_name in enumerate(['Ear Shape', 'Face Shape', 'Whiskers']):\n",
        "    left_indices, right_indices = split_indices(X_train, i)\n",
        "    i_gain = information_gain(X_train, y_train, left_indices, right_indices)\n",
        "    print(f\"Feature: {feature_name}, information gain if we split the root node using this feature: {i_gain:.2f}\")\n",
        ""
      ],
      "id": "LlmFnYYs-wPB"
    },
    {
      "cell_type": "markdown",
      "metadata": {
        "id": "-aCxbQPO-wPB"
      },
      "source": [
        "So, the best feature to split is indeed the Ear Shape. Run the code below to see the split in action. You do not need to understand the following code block."
      ],
      "id": "-aCxbQPO-wPB"
    },
    {
      "cell_type": "code",
      "execution_count": null,
      "metadata": {
        "id": "G3BeiLeA-wPB",
        "outputId": "ddb98f3e-956a-4071-9b11-e6f6234a73bd",
        "colab": {
          "referenced_widgets": [
            "a4d4796e2f94464e88a72c4679ae0abb"
          ]
        }
      },
      "outputs": [
        {
          "name": "stdout",
          "output_type": "stream",
          "text": [
            " Depth 0, Root: Split on feature: 0\n",
            " - Left leaf node with indices [0, 3, 4, 5, 7]\n",
            " - Right leaf node with indices [1, 2, 6, 8, 9]\n"
          ]
        },
        {
          "data": {
            "application/vnd.jupyter.widget-view+json": {
              "model_id": "a4d4796e2f94464e88a72c4679ae0abb",
              "version_major": 2,
              "version_minor": 0
            },
            "text/plain": [
              "Canvas(toolbar=Toolbar(toolitems=[('Home', 'Reset original view', 'home', 'home'), ('Back', 'Back to previous …"
            ]
          },
          "metadata": {},
          "output_type": "display_data"
        }
      ],
      "source": [
        "tree = []\n",
        "build_tree_recursive(X_train, y_train, [0,1,2,3,4,5,6,7,8,9], \"Root\", max_depth=1, current_depth=0, tree = tree)\n",
        "generate_tree_viz([0,1,2,3,4,5,6,7,8,9], y_train, tree)"
      ],
      "id": "G3BeiLeA-wPB"
    },
    {
      "cell_type": "markdown",
      "metadata": {
        "id": "KHGNygBd-wPB"
      },
      "source": [
        "The process is **recursive**, which means we must perform these calculations for each node until we meet a stopping criteria:\n",
        "\n",
        "- If the tree depth after splitting exceeds a threshold\n",
        "- If the resulting node has only 1 class\n",
        "- If the information gain of splitting is below a threshold"
      ],
      "id": "KHGNygBd-wPB"
    },
    {
      "cell_type": "markdown",
      "metadata": {
        "id": "fA_eF8r5-wPB"
      },
      "source": [
        "The final tree looks like this:"
      ],
      "id": "fA_eF8r5-wPB"
    },
    {
      "cell_type": "code",
      "execution_count": null,
      "metadata": {
        "id": "7_g7WkPC-wPB",
        "outputId": "213fd198-c6de-47be-9f20-7319a2d812d0",
        "colab": {
          "referenced_widgets": [
            "db83f73171614b32a84698a68ec0692b"
          ]
        }
      },
      "outputs": [
        {
          "name": "stdout",
          "output_type": "stream",
          "text": [
            " Depth 0, Root: Split on feature: 0\n",
            "- Depth 1, Left: Split on feature: 1\n",
            "  -- Left leaf node with indices [0, 4, 5, 7]\n",
            "  -- Right leaf node with indices [3]\n",
            "- Depth 1, Right: Split on feature: 2\n",
            "  -- Left leaf node with indices [1]\n",
            "  -- Right leaf node with indices [2, 6, 8, 9]\n"
          ]
        },
        {
          "data": {
            "application/vnd.jupyter.widget-view+json": {
              "model_id": "db83f73171614b32a84698a68ec0692b",
              "version_major": 2,
              "version_minor": 0
            },
            "text/plain": [
              "Canvas(toolbar=Toolbar(toolitems=[('Home', 'Reset original view', 'home', 'home'), ('Back', 'Back to previous …"
            ]
          },
          "metadata": {},
          "output_type": "display_data"
        }
      ],
      "source": [
        "tree = []\n",
        "build_tree_recursive(X_train, y_train, [0,1,2,3,4,5,6,7,8,9], \"Root\", max_depth=2, current_depth=0, tree = tree)\n",
        "generate_tree_viz([0,1,2,3,4,5,6,7,8,9], y_train, tree)"
      ],
      "id": "7_g7WkPC-wPB"
    },
    {
      "cell_type": "markdown",
      "metadata": {
        "id": "ZnnLFfgW-wPB"
      },
      "source": [
        "Congratulations! You completed the notebook!"
      ],
      "id": "ZnnLFfgW-wPB"
    }
  ],
  "metadata": {
    "kernelspec": {
      "display_name": "Python 3",
      "language": "python",
      "name": "python3"
    },
    "language_info": {
      "codemirror_mode": {
        "name": "ipython",
        "version": 3
      },
      "file_extension": ".py",
      "mimetype": "text/x-python",
      "name": "python",
      "nbconvert_exporter": "python",
      "pygments_lexer": "ipython3",
      "version": "3.7.6"
    },
    "vscode": {
      "interpreter": {
        "hash": "56d44d6a8424451b5ce45d1ae0b0b7865dc60710e7f74571dd51dd80d7829ee9"
      }
    },
    "colab": {
      "provenance": [],
      "include_colab_link": true
    }
  },
  "nbformat": 4,
  "nbformat_minor": 5
}